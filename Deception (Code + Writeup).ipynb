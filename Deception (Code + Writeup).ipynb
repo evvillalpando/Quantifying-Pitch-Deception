{
 "cells": [
  {
   "cell_type": "markdown",
   "id": "a8427924",
   "metadata": {},
   "source": [
    "# Part 4: Predictive Modelling, Coding, & Analysis"
   ]
  },
  {
   "cell_type": "code",
   "execution_count": 1,
   "id": "0f29c9cd",
   "metadata": {},
   "outputs": [],
   "source": [
    "import pandas as pd\n",
    "import numpy as np\n",
    "import seaborn as sns\n",
    "import pybaseball\n",
    "import sklearn.naive_bayes as nb\n",
    "from sklearn.preprocessing import StandardScaler\n",
    "from sklearn.model_selection import GridSearchCV\n",
    "from sklearn.model_selection import train_test_split\n",
    "from sklearn.metrics import f1_score\n",
    "from sklearn.pipeline import Pipeline\n",
    "from sklearn.svm import SVC\n",
    "import sklearn.model_selection\n",
    "import sklearn.preprocessing\n",
    "import sklearn.tree\n",
    "import sklearn.ensemble\n",
    "from sklearn.linear_model import LinearRegression\n",
    "from sklearn.linear_model import SGDRegressor\n",
    "from sklearn.metrics import mean_squared_error\n",
    "from sklearn.metrics import r2_score\n",
    "import matplotlib.pyplot as plt\n",
    "from sklearn.cluster import KMeans\n",
    "from sklearn.ensemble import VotingRegressor"
   ]
  },
  {
   "cell_type": "code",
   "execution_count": 3,
   "id": "8e113454",
   "metadata": {},
   "outputs": [],
   "source": [
    "## data = pybaseball.statcast('2021-04-01', '2021-10-03') # using pybaseball to gather statcast data\n",
    "## data.to_csv('2021_statcast.csv') # create csv\n",
    "pd.set_option(\"display.max_columns\", None)\n",
    "data = pd.read_csv('Data/2021_statcast.csv')\n",
    "# Nulls on pitch type caused issues, changed to \"Undefined\"\n",
    "data['pitch_type'] = data.pitch_type.apply(lambda x : 'Undefined' if pd.isnull(x) else x)\n",
    "# Added count variable for foltynewicz visaulization in tableau\n",
    "data['Count'] = data[['balls', 'strikes']].apply(lambda x: f\"{str(x.balls)} - {str(x.strikes)}\", axis = 1)\n",
    "folty = data[data['player_name'] == 'Foltynewicz, Mike'].groupby(['Count', 'pitch_type'])[['pitch_type']].count()\n",
    "# folty.to_csv('Data/folty.csv')\n",
    "\n",
    "# Read in fangraphs data, rearrange names to match statcast\n",
    "year_stats = pd.read_csv('Data/fangraphs_2021.csv')\n",
    "year_stats.Name = year_stats.Name.apply(lambda x : f\"{x.replace(' ', ',').split(',')[1]}, {x.replace(' ', ',').split(',')[0]}\")"
   ]
  },
  {
   "cell_type": "markdown",
   "id": "f99195a0",
   "metadata": {},
   "source": [
    "**Question: Define pitcher “deception” and use publicly available data to create a leaderboard of the most deceptive MLB pitchers according to your definition.**\n",
    "\n",
    "Per Meriam-Webster, *deception* is defined as:\n",
    "> the act of causing someone to accept as true or valid what is false or invalid\n",
    "\n",
    "There are a ton of ways that pitchers can accomplish this: hiding the ball well, varying armslot, velocity, timing, tunneling etc. Surely every pitcher, batter, and coach in the league has their own definition of what deception means.\n",
    "\n",
    "Preliminarily, I would almost call deception and unpredictability synonymous. We'll start by focusing on capturing unpredictability in two ways through some feature engineering on Statcast's 2021 data (filtered to exclude pitchers with < 50 IP), and after a brief discussion on their shortcomings, I'll discuss the motivation behind adding more features to the dataset.\n",
    "\n",
    "## Outcome: Called Strike/Whiff Rate\n",
    "\n",
    "Until we start putting EEG caps into batting helmets, it's hard to be able to determine whether a batter was actually fooled. **CSW%** *might* be the best metric we have that can capture how often a pitcher fools a batter, although it is imperfect. We can see below that CSW% does have a very linear relationship with tERA:\n",
    "\n",
    "![tera_csw-3.png](Images/tera_csw.png)\n",
    "\n",
    "\n",
    "There are however some obvious flaws in this decision. For one, some pitchers induce a lot of soft contact and are still successful *without* elite CSW% (Mark Melancon, Logan Webb come to mind). Yet, these pitchers can still be deceptive in unconventional ways, and, more importantly *effective* pitchers. So, I will begrudgingly use CSW as the outcome variable of interest in this dataset, making this a regression problem. Let's begin by adding some derivable features from Statcast.\n",
    "\n",
    "### Feature Engineering Unpredictability\n",
    "If a machine can't guess what's coming, what hope is there for a human?\n",
    "\n",
    "We'll model the human ability to predict pitches using two separate models: one will predict pitch type based on release point (release_posx, y, and z from Statcast), and another will predict pitch type based on the count. Surely there are other, better means for predicting a pitch type, but I'll keep this simple as these are two things a batter can conceivably pick up on in the moment. The logic to using machine learning methods to create these metrics is that presumably, if an algorithm deems a pitcher as difficult to predict, then surely humans would also have a hard time picking up on their patterns.\n",
    "\n",
    "**Disclaimer:** This will inherently favor pitchers who try to make all their pitches look the same from a delivery standpoint, as well as those who sequence their pitches uniformly regardless of the count. Pattern finding is inherent to us, and the harder it is to find patterns in a pitcher, the more *deceptive* a pitcher is in my opinion.\n",
    "\n",
    "With these two models deployed to create new features, I will subtract 1 from their respective weighted mean F1 scores. Thus, a pitcher with a higher \"unpredictability\" score would be one that the models could not predict well at all (i.e. a low weighted mean F1 score). Note: Accuracy wouldn't be great here due to many pitchers frequently throwing one pitch type, so I opted for a weighted mean F1 to avoid overrating pitchers who have a significant imbalance. So, for each, the score appended to the data will look like so:\n",
    "> $Unpredictability = 1 - \\textrm{weighted mean F1}$\n",
    "\n",
    "#### Unpredictability by Release Point\n",
    "\n",
    "We're not exactly looking for the *best* algorithm here–we simply need a way to compare pitchers' predictability, so there will not be much model tuning done. I opted for a Support Vector Machines Classifier to predict pitch type given release point, though I don't normally blindly pick an algorithm for such tasks. We're also not trying to deploy these models to predict future pitches for now, so there will be no partitioning for training/validation/testing. Again, I'm merely looking for a way to compare pitchers' predictability. The only parameter that isn't default here is:\n",
    "```\n",
    "class_weight = 'balanced'\n",
    "```\n",
    "Once again, this is to account for pitchers who have less variance in their pitch selection/arsenal. More info on that [here](https://scikit-learn.org/stable/modules/generated/sklearn.svm.SVC.html#sklearn.svm.SVC)"
   ]
  },
  {
   "cell_type": "code",
   "execution_count": 236,
   "id": "250bfc0c",
   "metadata": {},
   "outputs": [],
   "source": [
    "unpredictability_svm = [] # list of player names and their unpredictability scores\n",
    "# Iterate through each player in year_stats. This filters all pitchers with < 50 innings pitched.\n",
    "for player in year_stats.Name.unique():\n",
    "    df = data[data['player_name'] == player][['release_pos_x', 'release_pos_y',\n",
    "                                              'release_pos_z', 'pitch_type']].dropna() # drop nulls\n",
    "    # Assign predictors to X\n",
    "    X = df[['release_pos_x', 'release_pos_y', 'release_pos_z']]\n",
    "    # Target variable\n",
    "    y = df.pitch_type\n",
    "\n",
    "    # SVM generally performs significantly better scaled. Pipe scaled data into SVC.\n",
    "    svm_clf = Pipeline([\n",
    "        (\"scaler\", StandardScaler()),\n",
    "        (\"linear_svc\", SVC(class_weight = 'balanced')),\n",
    "    ])\n",
    "    try:\n",
    "        svm_clf.fit(X,y) # fit to data\n",
    "        preds = svm_clf.predict(X) # make predictions\n",
    "        score = f1_score(y, preds, average = 'weighted') # Get F1 score\n",
    "        unpredictability_svm.append((player, 1 - score)) # Unpredictability by release = 1 - F1\n",
    "    except:\n",
    "        # Skip players who have insufficient data\n",
    "        continue"
   ]
  },
  {
   "cell_type": "markdown",
   "id": "40560420",
   "metadata": {},
   "source": [
    "#### Top 10 by Unpredictability by Release Point"
   ]
  },
  {
   "cell_type": "code",
   "execution_count": 571,
   "id": "2803fded",
   "metadata": {},
   "outputs": [
    {
     "data": {
      "text/html": [
       "<div>\n",
       "<style scoped>\n",
       "    .dataframe tbody tr th:only-of-type {\n",
       "        vertical-align: middle;\n",
       "    }\n",
       "\n",
       "    .dataframe tbody tr th {\n",
       "        vertical-align: top;\n",
       "    }\n",
       "\n",
       "    .dataframe thead th {\n",
       "        text-align: right;\n",
       "    }\n",
       "</style>\n",
       "<table border=\"1\" class=\"dataframe\">\n",
       "  <thead>\n",
       "    <tr style=\"text-align: right;\">\n",
       "      <th></th>\n",
       "      <th>Player</th>\n",
       "      <th>unpredictability_by_release_point</th>\n",
       "    </tr>\n",
       "  </thead>\n",
       "  <tbody>\n",
       "    <tr>\n",
       "      <th>60</th>\n",
       "      <td>Stroman, Marcus</td>\n",
       "      <td>0.733032</td>\n",
       "    </tr>\n",
       "    <tr>\n",
       "      <th>134</th>\n",
       "      <td>Gibson, Kyle</td>\n",
       "      <td>0.726567</td>\n",
       "    </tr>\n",
       "    <tr>\n",
       "      <th>293</th>\n",
       "      <td>Kremer, Dean</td>\n",
       "      <td>0.701176</td>\n",
       "    </tr>\n",
       "    <tr>\n",
       "      <th>146</th>\n",
       "      <td>Kluber, Corey</td>\n",
       "      <td>0.685260</td>\n",
       "    </tr>\n",
       "    <tr>\n",
       "      <th>30</th>\n",
       "      <td>Woodruff, Brandon</td>\n",
       "      <td>0.679710</td>\n",
       "    </tr>\n",
       "    <tr>\n",
       "      <th>168</th>\n",
       "      <td>Kaprielian, James</td>\n",
       "      <td>0.671325</td>\n",
       "    </tr>\n",
       "    <tr>\n",
       "      <th>272</th>\n",
       "      <td>Happ, J.A.</td>\n",
       "      <td>0.669961</td>\n",
       "    </tr>\n",
       "    <tr>\n",
       "      <th>209</th>\n",
       "      <td>Dunning, Dane</td>\n",
       "      <td>0.668897</td>\n",
       "    </tr>\n",
       "    <tr>\n",
       "      <th>193</th>\n",
       "      <td>Taillon, Jameson</td>\n",
       "      <td>0.665989</td>\n",
       "    </tr>\n",
       "    <tr>\n",
       "      <th>263</th>\n",
       "      <td>Foltynewicz, Mike</td>\n",
       "      <td>0.658583</td>\n",
       "    </tr>\n",
       "  </tbody>\n",
       "</table>\n",
       "</div>"
      ],
      "text/plain": [
       "                Player  unpredictability_by_release_point\n",
       "60     Stroman, Marcus                           0.733032\n",
       "134       Gibson, Kyle                           0.726567\n",
       "293       Kremer, Dean                           0.701176\n",
       "146      Kluber, Corey                           0.685260\n",
       "30   Woodruff, Brandon                           0.679710\n",
       "168  Kaprielian, James                           0.671325\n",
       "272         Happ, J.A.                           0.669961\n",
       "209      Dunning, Dane                           0.668897\n",
       "193   Taillon, Jameson                           0.665989\n",
       "263  Foltynewicz, Mike                           0.658583"
      ]
     },
     "execution_count": 571,
     "metadata": {},
     "output_type": "execute_result"
    }
   ],
   "source": [
    "pd.DataFrame(unpredictability_svm, columns = ['Player', 'unpredictability_by_release_point']\n",
    "            ).sort_values('unpredictability_by_release_point', ascending = False).head(10)"
   ]
  },
  {
   "cell_type": "markdown",
   "id": "ce444109",
   "metadata": {},
   "source": [
    "These are certainly some good names to be around, though a mixed bag. Onward to unpredictability by count:"
   ]
  },
  {
   "cell_type": "markdown",
   "id": "47617ac9",
   "metadata": {},
   "source": [
    "#### Unpredictability by Count\n",
    "For this measure of unpredictability, I opted for a Multinomial Naive Bayes classifier. The motivation behind the choice is the same as above: we simply need a way to compare predictability, though the nature of Bayes' theorem may lend well to describing a pitcher's preferences by count, if any. "
   ]
  },
  {
   "cell_type": "code",
   "execution_count": null,
   "id": "9b956fdd",
   "metadata": {},
   "outputs": [],
   "source": [
    "unpredictability_count = []\n",
    "# Iterate only through players processed by SVM model above\n",
    "for player in [i[0] for i in unpredictability_svm]:\n",
    "    count_df = data[data['player_name'] == player][['pitch_type', 'balls', 'strikes']].dropna() # drop nulls\n",
    "    snb = nb.MultinomialNB()\n",
    "    snb.fit(count_df[['balls', 'strikes']], count_df.pitch_type) # Fit to X, y\n",
    "    preds = snb.predict(count_df[['balls', 'strikes']]) # Create preds\n",
    "    score = f1_score(count_df.pitch_type, preds, average = 'weighted') # Score\n",
    "    unpredictability_count.append((player, 1 - score)) # Append player name and F1"
   ]
  },
  {
   "cell_type": "markdown",
   "id": "707d5425",
   "metadata": {},
   "source": [
    "#### Top 10 Unpredictable Pitchers by Count"
   ]
  },
  {
   "cell_type": "code",
   "execution_count": 573,
   "id": "24861623",
   "metadata": {},
   "outputs": [
    {
     "data": {
      "text/html": [
       "<div>\n",
       "<style scoped>\n",
       "    .dataframe tbody tr th:only-of-type {\n",
       "        vertical-align: middle;\n",
       "    }\n",
       "\n",
       "    .dataframe tbody tr th {\n",
       "        vertical-align: top;\n",
       "    }\n",
       "\n",
       "    .dataframe thead th {\n",
       "        text-align: right;\n",
       "    }\n",
       "</style>\n",
       "<table border=\"1\" class=\"dataframe\">\n",
       "  <thead>\n",
       "    <tr style=\"text-align: right;\">\n",
       "      <th></th>\n",
       "      <th>Player</th>\n",
       "      <th>unpredictability_by_count</th>\n",
       "    </tr>\n",
       "  </thead>\n",
       "  <tbody>\n",
       "    <tr>\n",
       "      <th>263</th>\n",
       "      <td>Foltynewicz, Mike</td>\n",
       "      <td>0.866543</td>\n",
       "    </tr>\n",
       "    <tr>\n",
       "      <th>227</th>\n",
       "      <td>Lester, Jon</td>\n",
       "      <td>0.852510</td>\n",
       "    </tr>\n",
       "    <tr>\n",
       "      <th>75</th>\n",
       "      <td>Musgrove, Joe</td>\n",
       "      <td>0.848772</td>\n",
       "    </tr>\n",
       "    <tr>\n",
       "      <th>204</th>\n",
       "      <td>Kelly, Merrill</td>\n",
       "      <td>0.842381</td>\n",
       "    </tr>\n",
       "    <tr>\n",
       "      <th>149</th>\n",
       "      <td>Civale, Aaron</td>\n",
       "      <td>0.833508</td>\n",
       "    </tr>\n",
       "    <tr>\n",
       "      <th>64</th>\n",
       "      <td>Wainwright, Adam</td>\n",
       "      <td>0.830090</td>\n",
       "    </tr>\n",
       "    <tr>\n",
       "      <th>179</th>\n",
       "      <td>Gray, Sonny</td>\n",
       "      <td>0.827764</td>\n",
       "    </tr>\n",
       "    <tr>\n",
       "      <th>134</th>\n",
       "      <td>Gibson, Kyle</td>\n",
       "      <td>0.827321</td>\n",
       "    </tr>\n",
       "    <tr>\n",
       "      <th>283</th>\n",
       "      <td>Harvey, Matt</td>\n",
       "      <td>0.827018</td>\n",
       "    </tr>\n",
       "    <tr>\n",
       "      <th>129</th>\n",
       "      <td>Sandoval, Patrick</td>\n",
       "      <td>0.826425</td>\n",
       "    </tr>\n",
       "  </tbody>\n",
       "</table>\n",
       "</div>"
      ],
      "text/plain": [
       "                Player  unpredictability_by_count\n",
       "263  Foltynewicz, Mike                   0.866543\n",
       "227        Lester, Jon                   0.852510\n",
       "75       Musgrove, Joe                   0.848772\n",
       "204     Kelly, Merrill                   0.842381\n",
       "149      Civale, Aaron                   0.833508\n",
       "64    Wainwright, Adam                   0.830090\n",
       "179        Gray, Sonny                   0.827764\n",
       "134       Gibson, Kyle                   0.827321\n",
       "283       Harvey, Matt                   0.827018\n",
       "129  Sandoval, Patrick                   0.826425"
      ]
     },
     "execution_count": 573,
     "metadata": {},
     "output_type": "execute_result"
    }
   ],
   "source": [
    "pd.DataFrame(unpredictability_count, columns = ['Player', 'unpredictability_by_count']\n",
    "            ).sort_values('unpredictability_by_count', ascending = False).head(10)"
   ]
  },
  {
   "cell_type": "markdown",
   "id": "40b7ce22",
   "metadata": {},
   "source": [
    "![folty.png](Images/folty.png)\n",
    "\n",
    "We can see that Mike Foltynewicz does indeed mix his pitches fairly uniformly, save for 3-0 being almost exclusively fastballs (though not unusual). The rest of the names on the list are certainly familiar, though another mixed bag in terms of performance.\n",
    "\n",
    "This is *far* from our final list and not to be taken seriously, but for fun let's take a peak and see who *would* be leading unpredictability thus far by the product of the two metrics:"
   ]
  },
  {
   "cell_type": "code",
   "execution_count": 617,
   "id": "0a026f87",
   "metadata": {},
   "outputs": [
    {
     "data": {
      "text/html": [
       "<div>\n",
       "<style scoped>\n",
       "    .dataframe tbody tr th:only-of-type {\n",
       "        vertical-align: middle;\n",
       "    }\n",
       "\n",
       "    .dataframe tbody tr th {\n",
       "        vertical-align: top;\n",
       "    }\n",
       "\n",
       "    .dataframe thead th {\n",
       "        text-align: right;\n",
       "    }\n",
       "</style>\n",
       "<table border=\"1\" class=\"dataframe\">\n",
       "  <thead>\n",
       "    <tr style=\"text-align: right;\">\n",
       "      <th></th>\n",
       "      <th>Player</th>\n",
       "      <th>unpredictability_release</th>\n",
       "      <th>unpredictability_count</th>\n",
       "      <th>product</th>\n",
       "    </tr>\n",
       "  </thead>\n",
       "  <tbody>\n",
       "    <tr>\n",
       "      <th>0</th>\n",
       "      <td>Gibson, Kyle</td>\n",
       "      <td>0.726567</td>\n",
       "      <td>0.827321</td>\n",
       "      <td>0.601104</td>\n",
       "    </tr>\n",
       "    <tr>\n",
       "      <th>1</th>\n",
       "      <td>Foltynewicz, Mike</td>\n",
       "      <td>0.658583</td>\n",
       "      <td>0.866543</td>\n",
       "      <td>0.570690</td>\n",
       "    </tr>\n",
       "    <tr>\n",
       "      <th>2</th>\n",
       "      <td>Kluber, Corey</td>\n",
       "      <td>0.685260</td>\n",
       "      <td>0.776676</td>\n",
       "      <td>0.532225</td>\n",
       "    </tr>\n",
       "    <tr>\n",
       "      <th>3</th>\n",
       "      <td>Alcantara, Sandy</td>\n",
       "      <td>0.646386</td>\n",
       "      <td>0.797239</td>\n",
       "      <td>0.515325</td>\n",
       "    </tr>\n",
       "    <tr>\n",
       "      <th>4</th>\n",
       "      <td>Stroman, Marcus</td>\n",
       "      <td>0.733032</td>\n",
       "      <td>0.702589</td>\n",
       "      <td>0.515020</td>\n",
       "    </tr>\n",
       "    <tr>\n",
       "      <th>5</th>\n",
       "      <td>Thompson, Zach</td>\n",
       "      <td>0.626660</td>\n",
       "      <td>0.817686</td>\n",
       "      <td>0.512411</td>\n",
       "    </tr>\n",
       "    <tr>\n",
       "      <th>6</th>\n",
       "      <td>Woodruff, Brandon</td>\n",
       "      <td>0.679710</td>\n",
       "      <td>0.751302</td>\n",
       "      <td>0.510668</td>\n",
       "    </tr>\n",
       "    <tr>\n",
       "      <th>7</th>\n",
       "      <td>Musgrove, Joe</td>\n",
       "      <td>0.600915</td>\n",
       "      <td>0.848772</td>\n",
       "      <td>0.510039</td>\n",
       "    </tr>\n",
       "    <tr>\n",
       "      <th>8</th>\n",
       "      <td>Civale, Aaron</td>\n",
       "      <td>0.605128</td>\n",
       "      <td>0.833508</td>\n",
       "      <td>0.504380</td>\n",
       "    </tr>\n",
       "    <tr>\n",
       "      <th>9</th>\n",
       "      <td>Harvey, Matt</td>\n",
       "      <td>0.602269</td>\n",
       "      <td>0.827018</td>\n",
       "      <td>0.498087</td>\n",
       "    </tr>\n",
       "  </tbody>\n",
       "</table>\n",
       "</div>"
      ],
      "text/plain": [
       "              Player  unpredictability_release  unpredictability_count  \\\n",
       "0       Gibson, Kyle                  0.726567                0.827321   \n",
       "1  Foltynewicz, Mike                  0.658583                0.866543   \n",
       "2      Kluber, Corey                  0.685260                0.776676   \n",
       "3   Alcantara, Sandy                  0.646386                0.797239   \n",
       "4    Stroman, Marcus                  0.733032                0.702589   \n",
       "5     Thompson, Zach                  0.626660                0.817686   \n",
       "6  Woodruff, Brandon                  0.679710                0.751302   \n",
       "7      Musgrove, Joe                  0.600915                0.848772   \n",
       "8      Civale, Aaron                  0.605128                0.833508   \n",
       "9       Harvey, Matt                  0.602269                0.827018   \n",
       "\n",
       "    product  \n",
       "0  0.601104  \n",
       "1  0.570690  \n",
       "2  0.532225  \n",
       "3  0.515325  \n",
       "4  0.515020  \n",
       "5  0.512411  \n",
       "6  0.510668  \n",
       "7  0.510039  \n",
       "8  0.504380  \n",
       "9  0.498087  "
      ]
     },
     "execution_count": 617,
     "metadata": {},
     "output_type": "execute_result"
    }
   ],
   "source": [
    "temp_df = pd.DataFrame({'Player': [i[0] for i in unpredictability_svm],\n",
    "                        'unpredictability_release' : [i[1] for i in unpredictability_svm],\n",
    "                        'unpredictability_count' : [i[1] for i in unpredictability_count]})\n",
    "# Multiply the two metrics created to give a (stupid) rudimentary leaderboard thus far\n",
    "temp_df['product'] = temp_df['unpredictability_release'] * temp_df['unpredictability_count']\n",
    "temp_df.sort_values('product', ascending = False).head(10).reset_index().drop(columns = ['index'])"
   ]
  },
  {
   "cell_type": "markdown",
   "id": "e33646c2",
   "metadata": {},
   "source": [
    "Mostly above average guys; far from a complete picture."
   ]
  },
  {
   "cell_type": "markdown",
   "id": "d5e1ab0e",
   "metadata": {},
   "source": [
    "### Adding More Predictors\n",
    "Unfortunately, these are compromises and don't paint the whole picture. Any of those guys on that list could very well be tipping their pitches in other ways, though it's difficult to capture that with the data available.\n",
    "\n",
    "Ideally, we'd have predictors that include other delivery attributes, like deviations in windup time (e.g. quick pitching, hitches) or how well hidden the ball is (Kershaw comes to mind). And how could we possibly quantify Johnny Cueto?! There are few things in baseball that I love more than a Johnny Cueto shimmy, but Statcast doesn't have its priorities right.\n",
    "\n",
    "Also, this will not account for pitchers like Rich Hill, who intentionally changes his release point dramatically. Let's have a short Rich Hill-flavored anecdote to highlight how deception (or perceived deception) means different things to different pitchers."
   ]
  },
  {
   "cell_type": "markdown",
   "id": "e60c0515",
   "metadata": {},
   "source": [
    "#### Rich Hill's Release Point"
   ]
  },
  {
   "cell_type": "code",
   "execution_count": 157,
   "id": "cca410d2",
   "metadata": {},
   "outputs": [
    {
     "data": {
      "text/plain": [
       "<AxesSubplot:xlabel='release_pos_x', ylabel='release_pos_z'>"
      ]
     },
     "execution_count": 157,
     "metadata": {},
     "output_type": "execute_result"
    },
    {
     "data": {
      "image/png": "[encoded data removed]",
      "text/plain": [
       "<Figure size 432x288 with 1 Axes>"
      ]
     },
     "metadata": {
      "needs_background": "light"
     },
     "output_type": "display_data"
    }
   ],
   "source": [
    "rich_hill = data[data['player_name'] == 'Hill, Rich'][[\n",
    "    'pitch_type','release_pos_x', 'release_pos_y',\n",
    "    'release_pos_z', 'estimated_woba_using_speedangle']]\n",
    "sns.scatterplot(x = 'release_pos_x', y = 'release_pos_z',\n",
    "                hue = 'pitch_type', data = rich_hill)"
   ]
  },
  {
   "cell_type": "markdown",
   "id": "2354d03a",
   "metadata": {},
   "source": [
    "As we can see above, Rich Hill's pitch type is *very* predictable based on his release point. To contrast, let's look at a relatively consistent release point like Brandon Woodruff:"
   ]
  },
  {
   "cell_type": "code",
   "execution_count": 421,
   "id": "05765ecf",
   "metadata": {},
   "outputs": [
    {
     "data": {
      "text/plain": [
       "<AxesSubplot:xlabel='release_pos_x', ylabel='release_pos_z'>"
      ]
     },
     "execution_count": 421,
     "metadata": {},
     "output_type": "execute_result"
    },
    {
     "data": {
      "image/png": "[encoded data removed]",
      "text/plain": [
       "<Figure size 432x288 with 1 Axes>"
      ]
     },
     "metadata": {
      "needs_background": "light"
     },
     "output_type": "display_data"
    }
   ],
   "source": [
    "brandon_woodruff = data[data['player_name'] == 'Woodruff, Brandon'][\n",
    "    ['pitch_type','release_pos_x', 'release_pos_y',\n",
    "     'release_pos_z', 'estimated_woba_using_speedangle']]\n",
    "sns.scatterplot(x = 'release_pos_x', y = 'release_pos_z',\n",
    "                hue = 'pitch_type', data = brandon_woodruff)"
   ]
  },
  {
   "cell_type": "markdown",
   "id": "72810f70",
   "metadata": {},
   "source": [
    "By my chosen definition unpredictability, Brandon Woodruff is the more deceptive pitcher here. Is this *necessarily* true? I can't say for sure. At the very least, let's superficially have a look at the effectiveness of Rich Hill's deception by clustering his release points, and then showing their relationship with xwOBA (expected weighted on-base average):"
   ]
  },
  {
   "cell_type": "code",
   "execution_count": 178,
   "id": "b395b2d2",
   "metadata": {},
   "outputs": [
    {
     "name": "stderr",
     "output_type": "stream",
     "text": [
      "<ipython-input-178-663263fc2e34>:5: SettingWithCopyWarning: \n",
      "A value is trying to be set on a copy of a slice from a DataFrame.\n",
      "Try using .loc[row_indexer,col_indexer] = value instead\n",
      "\n",
      "See the caveats in the documentation: https://pandas.pydata.org/pandas-docs/stable/user_guide/indexing.html#returning-a-view-versus-a-copy\n",
      "  woba_clustering['cluster'] = preds\n"
     ]
    },
    {
     "data": {
      "text/plain": [
       "<AxesSubplot:xlabel='release_pos_x', ylabel='release_pos_z'>"
      ]
     },
     "execution_count": 178,
     "metadata": {},
     "output_type": "execute_result"
    },
    {
     "data": {
      "image/png": "[encoded data removed]",
      "text/plain": [
       "<Figure size 432x288 with 1 Axes>"
      ]
     },
     "metadata": {
      "needs_background": "light"
     },
     "output_type": "display_data"
    }
   ],
   "source": [
    "woba_clustering = rich_hill[rich_hill['estimated_woba_using_speedangle'].notnull()]\n",
    "km = KMeans(n_clusters = 4)\n",
    "preds = km.fit_predict(woba_clustering[['release_pos_x', 'release_pos_y', 'release_pos_z']])\n",
    "woba_clustering['cluster'] = preds\n",
    "sns.scatterplot(x = 'release_pos_x', y = 'release_pos_z', hue = 'cluster', palette = 'tab10', data = woba_clustering)"
   ]
  },
  {
   "cell_type": "code",
   "execution_count": 188,
   "id": "64852f85",
   "metadata": {},
   "outputs": [
    {
     "data": {
      "text/plain": [
       "<AxesSubplot:xlabel='cluster', ylabel='estimated_woba_using_speedangle'>"
      ]
     },
     "execution_count": 188,
     "metadata": {},
     "output_type": "execute_result"
    },
    {
     "data": {
      "image/png": "[encoded data removed]",
      "text/plain": [
       "<Figure size 432x288 with 1 Axes>"
      ]
     },
     "metadata": {
      "needs_background": "light"
     },
     "output_type": "display_data"
    }
   ],
   "source": [
    "# Rich Hill xwOBA by Cluster\n",
    "sns.boxplot(x = 'cluster', y = 'estimated_woba_using_speedangle', linewidth=2.0, data = woba_clustering)"
   ]
  },
  {
   "cell_type": "markdown",
   "id": "bc191bb8",
   "metadata": {},
   "source": [
    "It turns out Rich Hill's drop-angled pitches (cluster \"3\") have his *lowest* xwOBA at .29, so at the very least I'd categorize his deception as effective. Whether or not he's more \"deceptive\" than Brandon Woodruff is difficult to say. Let's look into how we can capture deception via deviance, i.e. \"giving guys different looks\"."
   ]
  },
  {
   "cell_type": "markdown",
   "id": "737d22df",
   "metadata": {},
   "source": [
    "#### Accounting for Deviation\n",
    "What is more deceptive? Unpredictability in consistency, or deviation? Inspired partially by Rich Hill and the fact that the Dodgers just got demolished by Logan Webb, who also tends to drop his arm angle, I figured factoring for deviation/variance warrants inclusion to contrast favoring consistency thus far.\n",
    "Additionally, Dodgers broadcaster and former pitcher Orel Hershiser often speaks about \"giving guys different looks\"  being very important for pitchers. According to him, this includes \"changing eye levels\" (i.e. mixing North/South, East/West sides of the plate) and changing speeds, among other things.\n",
    "\n",
    "To capture these attributes, I'll take the standard deviation for release point coordinates, release speed, and how much a pitcher spreads the zone via coordinates as the ball passes the plate. This will let us see see what effect deviance has in determining CSW% and by proxy deception, if any."
   ]
  },
  {
   "cell_type": "code",
   "execution_count": null,
   "id": "0cf7452b",
   "metadata": {},
   "outputs": [],
   "source": [
    "std_df = data[data['player_name'].isin(year_stats.Name.unique())][\n",
    "    ['player_name', 'release_speed', 'release_pos_x', 'release_pos_z', 'release_pos_y']]\n",
    "std_df = std_df.groupby('player_name').std().reset_index()\n",
    "std_df.columns = ['player_name', 'release_speed_std', 'release_pos_x_std', 'release_pos_z_std', 'release_pos_y_std']\n",
    "\n",
    "plate_std = []\n",
    "for i in year_stats.Name.unique():\n",
    "    aggregated = data[data['player_name'] == i].groupby(['game_date','batter'])[['plate_x', 'plate_z']].std().dropna()\n",
    "    plate_x_std = np.mean(aggregated.plate_x)\n",
    "    plate_z_std = np.mean(aggregated.plate_z)\n",
    "    plate_std.append((i, plate_x_std, plate_z_std))\n",
    "plate_df = pd.DataFrame(plate_std, columns = ['player_name', 'plate_x_std', 'plate_z_std'])"
   ]
  },
  {
   "cell_type": "markdown",
   "id": "123ff63b",
   "metadata": {},
   "source": [
    "### Tying it All Together"
   ]
  },
  {
   "cell_type": "code",
   "execution_count": 620,
   "id": "b0452dbc",
   "metadata": {},
   "outputs": [],
   "source": [
    "unpredict_df = pd.DataFrame.from_dict({'player_name' : [i[0] for i in unpredictability_svm],\n",
    "                                       'unpredictability_svm' : [i[1] for i in unpredictability_svm],\n",
    "                                       'unpredictability_count' : [i[1] for i in unpredictability_count]\n",
    "                                      })\n",
    "unpredict_df = unpredict_df.merge(plate_df, on = 'player_name')\n",
    "unpredict_df = unpredict_df.merge(std_df, on = 'player_name')\n",
    "unpredict_df = unpredict_df.merge(year_stats[['Name', 'CSW%']], left_on = 'player_name', right_on = 'Name')\n",
    "unpredict_df['CSW'] = unpredict_df['CSW%'].apply(lambda x: float(x.replace('%', '')))\n",
    "unpredict_df.drop(columns = ['Name', 'CSW%'], inplace = True)"
   ]
  },
  {
   "cell_type": "code",
   "execution_count": 621,
   "id": "4736c3ec",
   "metadata": {},
   "outputs": [
    {
     "data": {
      "text/html": [
       "<div>\n",
       "<style scoped>\n",
       "    .dataframe tbody tr th:only-of-type {\n",
       "        vertical-align: middle;\n",
       "    }\n",
       "\n",
       "    .dataframe tbody tr th {\n",
       "        vertical-align: top;\n",
       "    }\n",
       "\n",
       "    .dataframe thead th {\n",
       "        text-align: right;\n",
       "    }\n",
       "</style>\n",
       "<table border=\"1\" class=\"dataframe\">\n",
       "  <thead>\n",
       "    <tr style=\"text-align: right;\">\n",
       "      <th></th>\n",
       "      <th>player_name</th>\n",
       "      <th>unpredictability_svm</th>\n",
       "      <th>unpredictability_count</th>\n",
       "      <th>plate_x_std</th>\n",
       "      <th>plate_z_std</th>\n",
       "      <th>release_speed_std</th>\n",
       "      <th>release_pos_x_std</th>\n",
       "      <th>release_pos_z_std</th>\n",
       "      <th>release_pos_y_std</th>\n",
       "      <th>CSW</th>\n",
       "    </tr>\n",
       "  </thead>\n",
       "  <tbody>\n",
       "    <tr>\n",
       "      <th>0</th>\n",
       "      <td>Loup, Aaron</td>\n",
       "      <td>0.337529</td>\n",
       "      <td>0.645789</td>\n",
       "      <td>0.838603</td>\n",
       "      <td>0.537828</td>\n",
       "      <td>5.522060</td>\n",
       "      <td>0.118588</td>\n",
       "      <td>0.211464</td>\n",
       "      <td>0.163618</td>\n",
       "      <td>30.7</td>\n",
       "    </tr>\n",
       "    <tr>\n",
       "      <th>1</th>\n",
       "      <td>deGrom, Jacob</td>\n",
       "      <td>0.330384</td>\n",
       "      <td>0.581083</td>\n",
       "      <td>0.593681</td>\n",
       "      <td>0.864648</td>\n",
       "      <td>4.021629</td>\n",
       "      <td>0.106712</td>\n",
       "      <td>0.081675</td>\n",
       "      <td>0.134710</td>\n",
       "      <td>35.8</td>\n",
       "    </tr>\n",
       "    <tr>\n",
       "      <th>2</th>\n",
       "      <td>Hader, Josh</td>\n",
       "      <td>0.099699</td>\n",
       "      <td>0.482094</td>\n",
       "      <td>0.705507</td>\n",
       "      <td>0.891555</td>\n",
       "      <td>5.880987</td>\n",
       "      <td>0.226698</td>\n",
       "      <td>0.181102</td>\n",
       "      <td>0.164138</td>\n",
       "      <td>35.7</td>\n",
       "    </tr>\n",
       "    <tr>\n",
       "      <th>3</th>\n",
       "      <td>Clase, Emmanuel</td>\n",
       "      <td>0.389201</td>\n",
       "      <td>0.433282</td>\n",
       "      <td>0.602045</td>\n",
       "      <td>0.783308</td>\n",
       "      <td>3.975179</td>\n",
       "      <td>0.203441</td>\n",
       "      <td>0.082767</td>\n",
       "      <td>0.169918</td>\n",
       "      <td>30.3</td>\n",
       "    </tr>\n",
       "    <tr>\n",
       "      <th>4</th>\n",
       "      <td>Leone, Dominic</td>\n",
       "      <td>0.437085</td>\n",
       "      <td>0.656889</td>\n",
       "      <td>0.671615</td>\n",
       "      <td>0.882271</td>\n",
       "      <td>5.037096</td>\n",
       "      <td>0.151797</td>\n",
       "      <td>0.095919</td>\n",
       "      <td>0.145513</td>\n",
       "      <td>27.7</td>\n",
       "    </tr>\n",
       "  </tbody>\n",
       "</table>\n",
       "</div>"
      ],
      "text/plain": [
       "       player_name  unpredictability_svm  unpredictability_count  plate_x_std  \\\n",
       "0      Loup, Aaron              0.337529                0.645789     0.838603   \n",
       "1    deGrom, Jacob              0.330384                0.581083     0.593681   \n",
       "2      Hader, Josh              0.099699                0.482094     0.705507   \n",
       "3  Clase, Emmanuel              0.389201                0.433282     0.602045   \n",
       "4   Leone, Dominic              0.437085                0.656889     0.671615   \n",
       "\n",
       "   plate_z_std  release_speed_std  release_pos_x_std  release_pos_z_std  \\\n",
       "0     0.537828           5.522060           0.118588           0.211464   \n",
       "1     0.864648           4.021629           0.106712           0.081675   \n",
       "2     0.891555           5.880987           0.226698           0.181102   \n",
       "3     0.783308           3.975179           0.203441           0.082767   \n",
       "4     0.882271           5.037096           0.151797           0.095919   \n",
       "\n",
       "   release_pos_y_std   CSW  \n",
       "0           0.163618  30.7  \n",
       "1           0.134710  35.8  \n",
       "2           0.164138  35.7  \n",
       "3           0.169918  30.3  \n",
       "4           0.145513  27.7  "
      ]
     },
     "execution_count": 621,
     "metadata": {},
     "output_type": "execute_result"
    }
   ],
   "source": [
    "unpredict_df.head(5)"
   ]
  },
  {
   "cell_type": "markdown",
   "id": "22ce8a38",
   "metadata": {},
   "source": [
    "We know have our dataframe ready for modeling. An imperfect one, surely, but hopefully useful.\n",
    "\n",
    "## Predicting CSW\n",
    "Now, to see how well we can predict CSW given these attributes. We'lll begin by throwing a bunch of different regression learners at the problem, untuned, and look at two metrics for evaluating them: **RMSE** and **R^2**. \n",
    "The algorithms chosen are Decision Trees, Random Forests, (Stochastic) Gradient Descent, Lasso, Elastic Net, Ridge, and Bagging. Before then, we'll use a simple standard scaler and do a train/test split to evaluate overfitting."
   ]
  },
  {
   "cell_type": "code",
   "execution_count": 527,
   "id": "54585a18",
   "metadata": {},
   "outputs": [
    {
     "name": "stdout",
     "output_type": "stream",
     "text": [
      "DecisionTreeRegressor() RMSE on test set:\n",
      "-------------------\n",
      "R-Squared: -0.78\n",
      "RMSE: 3.35\n",
      "\n",
      "\n",
      "RandomForestRegressor() RMSE on test set:\n",
      "-------------------\n",
      "R-Squared: 0.01\n",
      "RMSE: 2.50\n",
      "\n",
      "\n",
      "SGDRegressor() RMSE on test set:\n",
      "-------------------\n",
      "R-Squared: 0.06\n",
      "RMSE: 2.43\n",
      "\n",
      "\n",
      "Lasso() RMSE on test set:\n",
      "-------------------\n",
      "R-Squared: -0.01\n",
      "RMSE: 2.52\n",
      "\n",
      "\n",
      "ElasticNet() RMSE on test set:\n",
      "-------------------\n",
      "R-Squared: 0.01\n",
      "RMSE: 2.50\n",
      "\n",
      "\n",
      "Ridge() RMSE on test set:\n",
      "-------------------\n",
      "R-Squared: 0.08\n",
      "RMSE: 2.41\n",
      "\n",
      "\n",
      "BaggingRegressor() RMSE on test set:\n",
      "-------------------\n",
      "R-Squared: -0.09\n",
      "RMSE: 2.62\n",
      "\n",
      "\n"
     ]
    }
   ],
   "source": [
    "scaler = StandardScaler()\n",
    "X = scaler.fit_transform(unpredict_df[['unpredictability_svm', 'unpredictability_count', 'plate_x_std','plate_z_std','release_speed_std','release_pos_x_std','release_pos_z_std','release_pos_y_std']])\n",
    "y = unpredict_df['CSW']\n",
    "X_train, X_test, y_train, y_test = train_test_split(X, y, test_size = .3, random_state = 42)\n",
    "\n",
    "decision_trees = sklearn.tree.DecisionTreeRegressor()\n",
    "random_forests = sklearn.ensemble.RandomForestRegressor()\n",
    "gradient_descent = sklearn.linear_model.SGDRegressor()\n",
    "lasso = sklearn.linear_model.Lasso()\n",
    "elastic_net = sklearn.linear_model.ElasticNet()\n",
    "ridge = sklearn.linear_model.Ridge()\n",
    "bagging = sklearn.ensemble.BaggingRegressor()\n",
    "models = [decision_trees, random_forests, gradient_descent, lasso, elastic_net, ridge, bagging]\n",
    "for model in models:\n",
    "    model.fit(X_train, y_train)\n",
    "    preds = model.predict(X_test)\n",
    "    print(f'{model} RMSE on test set:')\n",
    "    print(\"-------------------\")\n",
    "    print('R-Squared: %.2f' % r2_score(y_test, preds))\n",
    "    print('RMSE: %.2f' %np.sqrt(mean_squared_error(y_test, preds)))\n",
    "    print('\\n')"
   ]
  },
  {
   "cell_type": "markdown",
   "id": "548929c3",
   "metadata": {},
   "source": [
    "*None* of these have done well – the R^2 scores are abysmal. At this point, I wouldn't consider any of these models as good enough to predict CSW% on unseen observations with much confidence. The predictors here simply aren't representative enough.\n",
    "\n",
    "Regardless, we're not exactly trying to make future predictions. We can still use the best of these to define deception according to what predictors we *do* have, and although borderline useless, I suppose it's nice that we can see the coefficients for these models to see how much each predictor factors into CSW. \n",
    "\n",
    "To finish, I'll iterate through Stochastic Gradient Descent, Lasso, Ridge, and ElasticNet and perform the following:\n",
    "    \n",
    "- Tune with sk-learn's GridSearchCV\n",
    "- Append the tuned models to a list, as well as their coefficients to another\n",
    "- Using the list of tuned models, create a voting regressor to get our final top 10.\n",
    "- Aggregate each regressor's coefficients to \"quantify\" deception and make it a little less \"black box\" for non-technical audiences.\n",
    "\n",
    "None of the models performed well untuned, and I doubt tuning will offer significant improvement, but hopefully the \"wisdom of the crowd\" prevails by throwing them all into a voting regressor."
   ]
  },
  {
   "cell_type": "code",
   "execution_count": 623,
   "id": "e53a0077",
   "metadata": {},
   "outputs": [
    {
     "name": "stdout",
     "output_type": "stream",
     "text": [
      "Best Parameters for Lasso(): Lasso(alpha=0.04, max_iter=500)\n",
      "\n",
      "\n",
      "Best Parameters for SGDRegressor(): SGDRegressor(max_iter=2000)\n",
      "\n",
      "\n",
      "Best Parameters for ElasticNet(): ElasticNet(alpha=0.02, max_iter=500)\n",
      "\n",
      "\n",
      "Best Parameters for Ridge(): Ridge(alpha=0.19, max_iter=500)\n",
      "\n",
      "\n"
     ]
    }
   ],
   "source": [
    "grid = {lasso : {'alpha' : [i / 100 for i in range(1,20)], # Lasso param grid\n",
    "                 'max_iter' : [500,1000, 1500, 2000]},\n",
    "        \n",
    "        gradient_descent: {'max_iter': [500,1000, 1500, 2000], # Gradient descent param grid\n",
    "              'penalty' : ['l2', 'l1', 'elasticnet'],\n",
    "             'learning_rate' : ['constant', 'optimal', 'invscaling', 'adaptive']},\n",
    "        \n",
    "        elastic_net:  {'alpha' : [i / 100 for i in range(1,20)], # Elastic net param grid (same as Lasso)\n",
    "                 'max_iter' : [500,1000, 1500, 2000]} , \n",
    "        \n",
    "        ridge: {'alpha' : [i / 100 for i in range(1,20)],\n",
    "                'max_iter' : [500,1000, 1500, 2000]} # Ridge param grid\n",
    "       }\n",
    "\n",
    "best_models = [lasso, gradient_descent, elastic_net, ridge]\n",
    "tuned_models = []\n",
    "coefs = []\n",
    "for model in best_models:\n",
    "    \n",
    "    grid_search = GridSearchCV(model, cv = 5,\n",
    "                   param_grid = grid[model])\n",
    "    search = grid_search.fit(X,y)\n",
    "    print(f\"Best Parameters for {model}: {search.best_estimator_}\")\n",
    "    tuned_models.append(search.best_estimator_)\n",
    "    coefs.append(list(search.best_estimator_.coef_))\n",
    "    print('\\n')\n",
    "\n",
    "ereg = VotingRegressor(estimators=list(zip(['lasso', 'gradient', 'elastic', 'ridge'], tuned_models)))\n",
    "ereg = ereg.fit(X, y)\n",
    "unpredict_df['voting_reg'] = ereg.predict(X)"
   ]
  },
  {
   "cell_type": "markdown",
   "id": "921c8500",
   "metadata": {},
   "source": [
    "## Conclusions"
   ]
  },
  {
   "cell_type": "code",
   "execution_count": 631,
   "id": "6388a766",
   "metadata": {},
   "outputs": [
    {
     "name": "stdout",
     "output_type": "stream",
     "text": [
      "R^2 for Voting Regressore: 0.102\n"
     ]
    }
   ],
   "source": [
    "print(f\"R^2 for Voting Regressor: {round(ereg.score(X_test, y_test), 3)}\")"
   ]
  },
  {
   "cell_type": "markdown",
   "id": "cc24dac2",
   "metadata": {},
   "source": [
    "Less-than-stellar results. Regardless, let's use their predictions to show our Top 10 Most \"Deceptive\" Pitchers. I'll let you be the judge as to whether or not these pitchers are indeed deceptive, but take it with a grain of salt in that it's almost a mirror of Called Strike and Whiff Rate. These names are certainly good company to be in, however."
   ]
  },
  {
   "cell_type": "code",
   "execution_count": 635,
   "id": "57d71685",
   "metadata": {},
   "outputs": [
    {
     "data": {
      "text/html": [
       "<div>\n",
       "<style scoped>\n",
       "    .dataframe tbody tr th:only-of-type {\n",
       "        vertical-align: middle;\n",
       "    }\n",
       "\n",
       "    .dataframe tbody tr th {\n",
       "        vertical-align: top;\n",
       "    }\n",
       "\n",
       "    .dataframe thead th {\n",
       "        text-align: right;\n",
       "    }\n",
       "</style>\n",
       "<table border=\"1\" class=\"dataframe\">\n",
       "  <thead>\n",
       "    <tr style=\"text-align: right;\">\n",
       "      <th></th>\n",
       "      <th>player_name</th>\n",
       "      <th>voting_reg</th>\n",
       "    </tr>\n",
       "  </thead>\n",
       "  <tbody>\n",
       "    <tr>\n",
       "      <th>39</th>\n",
       "      <td>McGee, Jake</td>\n",
       "      <td>30.571102</td>\n",
       "    </tr>\n",
       "    <tr>\n",
       "      <th>16</th>\n",
       "      <td>Bednar, David</td>\n",
       "      <td>30.569325</td>\n",
       "    </tr>\n",
       "    <tr>\n",
       "      <th>111</th>\n",
       "      <td>Smith, Will</td>\n",
       "      <td>29.958348</td>\n",
       "    </tr>\n",
       "    <tr>\n",
       "      <th>2</th>\n",
       "      <td>Hader, Josh</td>\n",
       "      <td>29.900767</td>\n",
       "    </tr>\n",
       "    <tr>\n",
       "      <th>115</th>\n",
       "      <td>Kopech, Michael</td>\n",
       "      <td>29.867529</td>\n",
       "    </tr>\n",
       "    <tr>\n",
       "      <th>248</th>\n",
       "      <td>Paddack, Chris</td>\n",
       "      <td>29.865531</td>\n",
       "    </tr>\n",
       "    <tr>\n",
       "      <th>82</th>\n",
       "      <td>Kennedy, Ian</td>\n",
       "      <td>29.788777</td>\n",
       "    </tr>\n",
       "    <tr>\n",
       "      <th>44</th>\n",
       "      <td>Bender, Anthony</td>\n",
       "      <td>29.701882</td>\n",
       "    </tr>\n",
       "    <tr>\n",
       "      <th>53</th>\n",
       "      <td>Staumont, Josh</td>\n",
       "      <td>29.695677</td>\n",
       "    </tr>\n",
       "    <tr>\n",
       "      <th>25</th>\n",
       "      <td>Williams, Devin</td>\n",
       "      <td>29.686911</td>\n",
       "    </tr>\n",
       "  </tbody>\n",
       "</table>\n",
       "</div>"
      ],
      "text/plain": [
       "         player_name  voting_reg\n",
       "39       McGee, Jake   30.571102\n",
       "16     Bednar, David   30.569325\n",
       "111      Smith, Will   29.958348\n",
       "2        Hader, Josh   29.900767\n",
       "115  Kopech, Michael   29.867529\n",
       "248   Paddack, Chris   29.865531\n",
       "82      Kennedy, Ian   29.788777\n",
       "44   Bender, Anthony   29.701882\n",
       "53    Staumont, Josh   29.695677\n",
       "25   Williams, Devin   29.686911"
      ]
     },
     "execution_count": 635,
     "metadata": {},
     "output_type": "execute_result"
    }
   ],
   "source": [
    "unpredict_df.sort_values('voting_reg', ascending = False)[['player_name','voting_reg']].head(10)"
   ]
  },
  {
   "cell_type": "markdown",
   "id": "f2d53546",
   "metadata": {},
   "source": [
    "We also can take a look at the average coefficients in the Voting Regressor model:"
   ]
  },
  {
   "cell_type": "code",
   "execution_count": 560,
   "id": "79936c11",
   "metadata": {},
   "outputs": [
    {
     "data": {
      "text/html": [
       "<div>\n",
       "<style scoped>\n",
       "    .dataframe tbody tr th:only-of-type {\n",
       "        vertical-align: middle;\n",
       "    }\n",
       "\n",
       "    .dataframe tbody tr th {\n",
       "        vertical-align: top;\n",
       "    }\n",
       "\n",
       "    .dataframe thead th {\n",
       "        text-align: right;\n",
       "    }\n",
       "</style>\n",
       "<table border=\"1\" class=\"dataframe\">\n",
       "  <thead>\n",
       "    <tr style=\"text-align: right;\">\n",
       "      <th></th>\n",
       "      <th>Avg. Coefficient</th>\n",
       "    </tr>\n",
       "  </thead>\n",
       "  <tbody>\n",
       "    <tr>\n",
       "      <th>unpredictability_svm</th>\n",
       "      <td>-0.423458</td>\n",
       "    </tr>\n",
       "    <tr>\n",
       "      <th>unpredictability_count</th>\n",
       "      <td>-0.349488</td>\n",
       "    </tr>\n",
       "    <tr>\n",
       "      <th>plate_x_std</th>\n",
       "      <td>0.009745</td>\n",
       "    </tr>\n",
       "    <tr>\n",
       "      <th>plate_z_std</th>\n",
       "      <td>-0.066035</td>\n",
       "    </tr>\n",
       "    <tr>\n",
       "      <th>release_speed_std</th>\n",
       "      <td>0.376327</td>\n",
       "    </tr>\n",
       "    <tr>\n",
       "      <th>release_pos_x_std</th>\n",
       "      <td>-0.891597</td>\n",
       "    </tr>\n",
       "    <tr>\n",
       "      <th>release_pos_z_std</th>\n",
       "      <td>0.189053</td>\n",
       "    </tr>\n",
       "    <tr>\n",
       "      <th>release_pos_y_std</th>\n",
       "      <td>0.627356</td>\n",
       "    </tr>\n",
       "  </tbody>\n",
       "</table>\n",
       "</div>"
      ],
      "text/plain": [
       "                        Avg. Coefficient\n",
       "unpredictability_svm           -0.423458\n",
       "unpredictability_count         -0.349488\n",
       "plate_x_std                     0.009745\n",
       "plate_z_std                    -0.066035\n",
       "release_speed_std               0.376327\n",
       "release_pos_x_std              -0.891597\n",
       "release_pos_z_std               0.189053\n",
       "release_pos_y_std               0.627356"
      ]
     },
     "execution_count": 560,
     "metadata": {},
     "output_type": "execute_result"
    }
   ],
   "source": [
    "pd.DataFrame(pd.DataFrame(coefs, columns = ['unpredictability_svm', 'unpredictability_count', 'plate_x_std','plate_z_std','release_speed_std','release_pos_x_std','release_pos_z_std','release_pos_y_std']).agg('mean'), columns =[ 'Avg. Coefficient'])"
   ]
  },
  {
   "cell_type": "markdown",
   "id": "5871b8f8",
   "metadata": {},
   "source": [
    "Turns out the unpredictability measures did *not* work out how I expected. In fact, higher values in those metrics is more associated with a *worse* CSW%. Larger deviation in release speed and release point seem to be far more associated with CSW%, vindicating Rich Hill and the wisdom of Orel Hershiser. Different looks and speeds are certainly valuable assets for a pitcher: both conventional wisdom and these coefficients back up that claim."
   ]
  },
  {
   "cell_type": "markdown",
   "id": "14b0993c",
   "metadata": {},
   "source": [
    "The model performed poorly, didn't generalize well, and should *not* be used to make any serious future predictions. Certainly there are better predictors for CSW%, but I tried to focus on attributes a batter has to pick up on and the pitcher can intentionally tweak to be more \"deceptive\". I realize at this point that quantifying deception might be a fool's errand, especially when describing it in imcomplete terms as synonymous with CSW%. Still, it's a fun problem to think about, and not one I would completely give up on with more data.\n",
    "\n",
    "Additionally, there are many ideas of what it means. More importantly, is deception a desirable trait? How indicative is it of performance? It's really hard to draw any causative conclusions, and from what I've seen of others' attempts, the jury is still out on this one. Deception is one piece to the puzzle, which is a puzzle in itself – one we might not be able to solve with conventional methods and public data, if ever."
   ]
  }
 ],
 "metadata": {
  "kernelspec": {
   "display_name": "Python 3",
   "language": "python",
   "name": "python3"
  },
  "language_info": {
   "codemirror_mode": {
    "name": "ipython",
    "version": 3
   },
   "file_extension": ".py",
   "mimetype": "text/x-python",
   "name": "python",
   "nbconvert_exporter": "python",
   "pygments_lexer": "ipython3",
   "version": "3.9.5"
  }
 },
 "nbformat": 4,
 "nbformat_minor": 5
}
